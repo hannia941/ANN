{
 "cells": [
  {
   "cell_type": "markdown",
   "metadata": {},
   "source": [
    "# Analysis of Comic Book Reviews with usage of Deep NLP."
   ]
  },
  {
   "cell_type": "markdown",
   "metadata": {},
   "source": [
    "Dataset originates from the site https://sites.google.com/eng.ucsd.edu/ucsdbookgraph/home\n",
    "\n",
    "The datasets were collected in late 2017 from goodreads.com, where only users' public shelves were scraped, i.e. everyone can see it on web without login. User IDs and review IDs are anonymized. \n",
    "\n",
    "Following papers needs to be mentioned for fair use:\n",
    "1. Mengting Wan, Julian McAuley, \"Item Recommendation on Monotonic Behavior Chains\", in RecSys'18.\n",
    "2. Mengting Wan, Rishabh Misra, Ndapa Nakashole, Julian McAuley, \"Fine-Grained Spoiler Detection from Large-Scale Review Corpora\", in ACL'19."
   ]
  },
  {
   "cell_type": "markdown",
   "metadata": {},
   "source": [
    "### Importing the data "
   ]
  },
  {
   "cell_type": "markdown",
   "metadata": {},
   "source": [
    "File is available with JSON extension, which is a standard data interchangeable format. To load it in Python we need to import json library."
   ]
  },
  {
   "cell_type": "code",
   "execution_count": 2,
   "metadata": {},
   "outputs": [
    {
     "name": "stderr",
     "output_type": "stream",
     "text": [
      "[nltk_data] Downloading package stopwords to /Users/user/nltk_data...\n",
      "[nltk_data]   Package stopwords is already up-to-date!\n"
     ]
    }
   ],
   "source": [
    "import json\n",
    "import pandas as pd\n",
    "import numpy as np\n",
    "import tensorflow as tf\n",
    "import re\n",
    "import nltk\n",
    "nltk.download('stopwords')\n",
    "from nltk.corpus import stopwords\n",
    "from nltk.stem.porter import PorterStemmer\n",
    "from sklearn.feature_extraction.text import CountVectorizer\n",
    "from sklearn.model_selection import train_test_split\n",
    "from sklearn.metrics import accuracy_score\n",
    "from tensorflow.keras.models import Sequential\n",
    "from tensorflow.keras.layers import Dense"
   ]
  },
  {
   "cell_type": "code",
   "execution_count": 3,
   "metadata": {},
   "outputs": [],
   "source": [
    "def load_data(file):\n",
    "    reviews = []\n",
    "    for line in  open(file, 'r'):\n",
    "          reviews.append(json.loads(line))\n",
    "    return reviews\n",
    "filename = '/Users/user/Desktop/Python/ANN/NLP/goodreads_reviews_comics_graphic.json'\n",
    "dataset = load_data(filename)\n",
    "dataset_min = []\n",
    "for line in dataset:\n",
    "    dataset_min.append((line['review_text'],line['rating']))\n",
    "\n",
    "#We are taking 1000 first rows to speed up the process\n",
    "dataset = pd.DataFrame(dataset_min[:1000])\n",
    "dataset.columns = ['Review', 'Rating']"
   ]
  },
  {
   "cell_type": "markdown",
   "metadata": {},
   "source": [
    "### Cleaning the text "
   ]
  },
  {
   "cell_type": "markdown",
   "metadata": {},
   "source": [
    "First step for Natural Language Processing is of course cleaning the text. This is highly significat for model predictions. Following stages will be covered:\n",
    "1. Deleting numbers, punctuation and trailing newlines,\n",
    "2. Changing all uppercase letters to lowercase,\n",
    "3. Removing as much meaningless words as possible based on 'stopwords' dataset,\n",
    "4. Stemming - reducing inflected (or sometimes derived) words to their root form"
   ]
  },
  {
   "cell_type": "markdown",
   "metadata": {},
   "source": [
    "Unfortunately English stopwords dataset contains word 'not' which is important for determining how good the review is, so we need to remove it from the stopwords dataset."
   ]
  },
  {
   "cell_type": "code",
   "execution_count": 4,
   "metadata": {},
   "outputs": [],
   "source": [
    "all_stopwords = stopwords.words('english')\n",
    "all_stopwords.remove('not')"
   ]
  },
  {
   "cell_type": "code",
   "execution_count": 5,
   "metadata": {},
   "outputs": [],
   "source": [
    "reviews_all = []\n",
    "for i in range(0,len(dataset)):\n",
    "    #1. Removing redundant signs\n",
    "    review = re.sub('[^a-zA-Z]', ' ', dataset['Review'][i])\n",
    "    review = review.rstrip()\n",
    "    #2. Changing uppercase letters\n",
    "    review = review.lower()\n",
    "    #3 & 4. Stopwords and stemming\n",
    "    review = review.split()\n",
    "    ps = PorterStemmer()\n",
    "    review = [ps.stem(word) for word in review if word not in all_stopwords]\n",
    "    review = ' '.join(review)\n",
    "    reviews_all.append(review)"
   ]
  },
  {
   "cell_type": "markdown",
   "metadata": {},
   "source": [
    "### Bag-of-Words "
   ]
  },
  {
   "cell_type": "markdown",
   "metadata": {},
   "source": [
    "Feature selection with BOW model."
   ]
  },
  {
   "cell_type": "code",
   "execution_count": 6,
   "metadata": {},
   "outputs": [
    {
     "data": {
      "text/plain": [
       "6373"
      ]
     },
     "execution_count": 6,
     "metadata": {},
     "output_type": "execute_result"
    }
   ],
   "source": [
    "cv = CountVectorizer()\n",
    "X = cv.fit_transform(reviews_all).toarray()\n",
    "y = dataset.iloc[:,-1].values\n",
    "len(X[0])"
   ]
  },
  {
   "cell_type": "markdown",
   "metadata": {},
   "source": [
    "CountVectorizer class has an attribute of 'max_fatures' which indicates maximum number of columns a sparse matrix can have. Worth knowing is that this columns also point at meaningless words that won't influence the model itself. To reduce the number of columns we can manually set max_fatures to a certain number. "
   ]
  },
  {
   "cell_type": "code",
   "execution_count": 7,
   "metadata": {},
   "outputs": [],
   "source": [
    "max_f = 6000\n",
    "cv = CountVectorizer(max_features = max_f)\n",
    "X = cv.fit_transform(reviews_all).toarray()\n",
    "y = dataset.iloc[:,-1].values"
   ]
  },
  {
   "cell_type": "markdown",
   "metadata": {},
   "source": [
    "Encoding categorical data."
   ]
  },
  {
   "cell_type": "markdown",
   "metadata": {},
   "source": [
    "Usually for non-binary classification OneHotEncoder would be used, but here I want to transform multicategorical data to binary data. My goal is to predict not which rating the review will get but weather it will be negative or positive. That's why ratings from 0 to 2 are associated with 0, which means bad, and from 3 to 5 with 1, which is good."
   ]
  },
  {
   "cell_type": "code",
   "execution_count": 8,
   "metadata": {},
   "outputs": [],
   "source": [
    "y = np.where(y == 3, 1, np.where(y == 4, 1, np.where(y == 5, 1, 0)))"
   ]
  },
  {
   "cell_type": "markdown",
   "metadata": {},
   "source": [
    "### Creating Artificial Neural Network"
   ]
  },
  {
   "cell_type": "markdown",
   "metadata": {},
   "source": [
    "Splitting the dataset into training set and test set."
   ]
  },
  {
   "cell_type": "markdown",
   "metadata": {},
   "source": [
    "Since we have only categorical data in the dataset, we do not have to scale the features."
   ]
  },
  {
   "cell_type": "code",
   "execution_count": 9,
   "metadata": {},
   "outputs": [],
   "source": [
    "X_train, X_test, y_train, y_test = train_test_split(X, y, test_size=0.2, random_state=1)"
   ]
  },
  {
   "cell_type": "markdown",
   "metadata": {},
   "source": [
    "For multicategorical data we would have several nodes as output, activation function would be softmax and loss would be categorical crossentropy. For binary output there is only one node needed, sigmoid function and binary crossentropy loss is also correct."
   ]
  },
  {
   "cell_type": "code",
   "execution_count": 10,
   "metadata": {},
   "outputs": [
    {
     "name": "stdout",
     "output_type": "stream",
     "text": [
      "WARNING:tensorflow:From /Applications/anaconda3/lib/python3.7/site-packages/tensorflow/python/ops/resource_variable_ops.py:435: colocate_with (from tensorflow.python.framework.ops) is deprecated and will be removed in a future version.\n",
      "Instructions for updating:\n",
      "Colocations handled automatically by placer.\n",
      "WARNING:tensorflow:From /Applications/anaconda3/lib/python3.7/site-packages/tensorflow/python/ops/math_ops.py:3066: to_int32 (from tensorflow.python.ops.math_ops) is deprecated and will be removed in a future version.\n",
      "Instructions for updating:\n",
      "Use tf.cast instead.\n",
      "Epoch 1/100\n",
      "800/800 [==============================] - 5s 7ms/sample - loss: 0.5284 - acc: 0.7738\n",
      "Epoch 2/100\n",
      "800/800 [==============================] - 5s 6ms/sample - loss: 0.1928 - acc: 0.9300\n",
      "Epoch 3/100\n",
      "800/800 [==============================] - 5s 7ms/sample - loss: 0.0403 - acc: 0.9900\n",
      "Epoch 4/100\n",
      "800/800 [==============================] - 5s 6ms/sample - loss: 0.0117 - acc: 0.9950\n",
      "Epoch 5/100\n",
      "800/800 [==============================] - 5s 6ms/sample - loss: 0.0071 - acc: 0.9975\n",
      "Epoch 6/100\n",
      "800/800 [==============================] - 5s 6ms/sample - loss: 0.0040 - acc: 0.9987\n",
      "Epoch 7/100\n",
      "800/800 [==============================] - 5s 6ms/sample - loss: 0.0042 - acc: 0.9987\n",
      "Epoch 8/100\n",
      "800/800 [==============================] - 5s 6ms/sample - loss: 0.0042 - acc: 0.9987\n",
      "Epoch 9/100\n",
      "800/800 [==============================] - 5s 6ms/sample - loss: 0.0033 - acc: 0.9987\n",
      "Epoch 10/100\n",
      "800/800 [==============================] - 5s 6ms/sample - loss: 0.0032 - acc: 0.9987\n",
      "Epoch 11/100\n",
      "800/800 [==============================] - 5s 6ms/sample - loss: 0.0035 - acc: 0.9987\n",
      "Epoch 12/100\n",
      "800/800 [==============================] - 5s 6ms/sample - loss: 0.0033 - acc: 0.9975\n",
      "Epoch 13/100\n",
      "800/800 [==============================] - 5s 6ms/sample - loss: 0.0033 - acc: 0.9975\n",
      "Epoch 14/100\n",
      "800/800 [==============================] - 5s 6ms/sample - loss: 0.0036 - acc: 0.9975\n",
      "Epoch 15/100\n",
      "800/800 [==============================] - 5s 6ms/sample - loss: 0.0031 - acc: 0.9987\n",
      "Epoch 16/100\n",
      "800/800 [==============================] - 5s 6ms/sample - loss: 0.0022 - acc: 0.9975\n",
      "Epoch 17/100\n",
      "800/800 [==============================] - 5s 6ms/sample - loss: 0.0034 - acc: 0.9987\n",
      "Epoch 18/100\n",
      "800/800 [==============================] - 5s 6ms/sample - loss: 0.0037 - acc: 0.9987\n",
      "Epoch 19/100\n",
      "800/800 [==============================] - 5s 6ms/sample - loss: 0.0034 - acc: 0.9975\n",
      "Epoch 20/100\n",
      "800/800 [==============================] - 5s 6ms/sample - loss: 0.0026 - acc: 0.9987\n",
      "Epoch 21/100\n",
      "800/800 [==============================] - 5s 6ms/sample - loss: 0.0036 - acc: 0.9987\n",
      "Epoch 22/100\n",
      "800/800 [==============================] - 5s 6ms/sample - loss: 0.0018 - acc: 0.9987\n",
      "Epoch 23/100\n",
      "800/800 [==============================] - 5s 6ms/sample - loss: 0.0032 - acc: 0.9987\n",
      "Epoch 24/100\n",
      "800/800 [==============================] - 5s 6ms/sample - loss: 0.0031 - acc: 0.9987\n",
      "Epoch 25/100\n",
      "800/800 [==============================] - 5s 6ms/sample - loss: 0.0033 - acc: 0.9987\n",
      "Epoch 26/100\n",
      "800/800 [==============================] - 5s 6ms/sample - loss: 0.0020 - acc: 0.9987\n",
      "Epoch 27/100\n",
      "800/800 [==============================] - 5s 6ms/sample - loss: 0.0020 - acc: 0.9987\n",
      "Epoch 28/100\n",
      "800/800 [==============================] - 5s 6ms/sample - loss: 0.0025 - acc: 0.9975\n",
      "Epoch 29/100\n",
      "800/800 [==============================] - 5s 6ms/sample - loss: 0.0020 - acc: 0.9975\n",
      "Epoch 30/100\n",
      "800/800 [==============================] - 5s 6ms/sample - loss: 0.0020 - acc: 0.9987\n",
      "Epoch 31/100\n",
      "800/800 [==============================] - 5s 6ms/sample - loss: 0.0029 - acc: 0.9975\n",
      "Epoch 32/100\n",
      "800/800 [==============================] - 5s 6ms/sample - loss: 0.0028 - acc: 0.9975\n",
      "Epoch 33/100\n",
      "800/800 [==============================] - 5s 6ms/sample - loss: 0.0024 - acc: 0.9975\n",
      "Epoch 34/100\n",
      "800/800 [==============================] - 5s 6ms/sample - loss: 0.0022 - acc: 0.9975\n",
      "Epoch 35/100\n",
      "800/800 [==============================] - 5s 6ms/sample - loss: 0.0024 - acc: 0.9975\n",
      "Epoch 36/100\n",
      "800/800 [==============================] - 5s 6ms/sample - loss: 0.0017 - acc: 0.9987\n",
      "Epoch 37/100\n",
      "800/800 [==============================] - 5s 6ms/sample - loss: 0.0024 - acc: 0.9987\n",
      "Epoch 38/100\n",
      "800/800 [==============================] - 5s 6ms/sample - loss: 0.0018 - acc: 0.9987\n",
      "Epoch 39/100\n",
      "800/800 [==============================] - 5s 6ms/sample - loss: 0.0030 - acc: 0.9987\n",
      "Epoch 40/100\n",
      "800/800 [==============================] - 5s 6ms/sample - loss: 0.0018 - acc: 0.9987\n",
      "Epoch 41/100\n",
      "800/800 [==============================] - 5s 6ms/sample - loss: 0.0025 - acc: 0.9987\n",
      "Epoch 42/100\n",
      "800/800 [==============================] - 5s 6ms/sample - loss: 0.0019 - acc: 0.9987\n",
      "Epoch 43/100\n",
      "800/800 [==============================] - 5s 6ms/sample - loss: 0.0020 - acc: 0.9987\n",
      "Epoch 44/100\n",
      "800/800 [==============================] - 5s 6ms/sample - loss: 0.0019 - acc: 0.9987\n",
      "Epoch 45/100\n",
      "800/800 [==============================] - 5s 6ms/sample - loss: 0.0019 - acc: 0.9975\n",
      "Epoch 46/100\n",
      "800/800 [==============================] - 5s 6ms/sample - loss: 0.0020 - acc: 0.9987\n",
      "Epoch 47/100\n",
      "800/800 [==============================] - 5s 6ms/sample - loss: 0.0019 - acc: 0.9987\n",
      "Epoch 48/100\n",
      "800/800 [==============================] - 5s 6ms/sample - loss: 0.0020 - acc: 0.9987\n",
      "Epoch 49/100\n",
      "800/800 [==============================] - 5s 6ms/sample - loss: 0.0021 - acc: 0.9975\n",
      "Epoch 50/100\n",
      "800/800 [==============================] - 5s 6ms/sample - loss: 0.0023 - acc: 0.9975\n",
      "Epoch 51/100\n",
      "800/800 [==============================] - 5s 6ms/sample - loss: 0.0021 - acc: 0.9975\n",
      "Epoch 52/100\n",
      "800/800 [==============================] - 5s 6ms/sample - loss: 0.0020 - acc: 0.9975\n",
      "Epoch 53/100\n",
      "800/800 [==============================] - 5s 6ms/sample - loss: 0.0019 - acc: 0.9987\n",
      "Epoch 54/100\n",
      "800/800 [==============================] - 5s 6ms/sample - loss: 0.0020 - acc: 0.9975\n",
      "Epoch 55/100\n",
      "800/800 [==============================] - 5s 6ms/sample - loss: 0.0019 - acc: 0.9987\n",
      "Epoch 56/100\n",
      "800/800 [==============================] - 5s 6ms/sample - loss: 0.0019 - acc: 0.9975\n",
      "Epoch 57/100\n",
      "800/800 [==============================] - 5s 6ms/sample - loss: 0.0018 - acc: 0.9975\n",
      "Epoch 58/100\n",
      "800/800 [==============================] - 5s 6ms/sample - loss: 0.0019 - acc: 0.9987\n",
      "Epoch 59/100\n",
      "800/800 [==============================] - 5s 6ms/sample - loss: 0.0019 - acc: 0.9975\n",
      "Epoch 60/100\n",
      "800/800 [==============================] - 5s 6ms/sample - loss: 0.0020 - acc: 0.9975\n",
      "Epoch 61/100\n",
      "800/800 [==============================] - 5s 6ms/sample - loss: 0.0020 - acc: 0.9975\n",
      "Epoch 62/100\n",
      "800/800 [==============================] - 5s 6ms/sample - loss: 0.0018 - acc: 0.9987\n",
      "Epoch 63/100\n",
      "800/800 [==============================] - 5s 6ms/sample - loss: 0.0018 - acc: 0.9987\n",
      "Epoch 64/100\n",
      "800/800 [==============================] - 5s 6ms/sample - loss: 0.0018 - acc: 0.9987\n",
      "Epoch 65/100\n",
      "800/800 [==============================] - 5s 6ms/sample - loss: 0.0018 - acc: 0.9987\n",
      "Epoch 66/100\n",
      "800/800 [==============================] - 5s 6ms/sample - loss: 0.0017 - acc: 0.9987\n",
      "Epoch 67/100\n",
      "800/800 [==============================] - 5s 6ms/sample - loss: 0.0019 - acc: 0.9975\n",
      "Epoch 68/100\n",
      "800/800 [==============================] - 5s 6ms/sample - loss: 0.0019 - acc: 0.9987\n",
      "Epoch 69/100\n",
      "800/800 [==============================] - 5s 6ms/sample - loss: 0.0019 - acc: 0.9987\n",
      "Epoch 70/100\n",
      "800/800 [==============================] - 5s 6ms/sample - loss: 0.0018 - acc: 0.9987\n",
      "Epoch 71/100\n",
      "800/800 [==============================] - 5s 6ms/sample - loss: 0.0018 - acc: 0.9987\n",
      "Epoch 72/100\n",
      "800/800 [==============================] - 5s 6ms/sample - loss: 0.0018 - acc: 0.9987\n",
      "Epoch 73/100\n",
      "800/800 [==============================] - 5s 6ms/sample - loss: 0.0019 - acc: 0.9975\n",
      "Epoch 74/100\n",
      "800/800 [==============================] - 5s 6ms/sample - loss: 0.0019 - acc: 0.9987\n",
      "Epoch 75/100\n",
      "800/800 [==============================] - 5s 6ms/sample - loss: 0.0019 - acc: 0.9975\n",
      "Epoch 76/100\n",
      "800/800 [==============================] - 5s 6ms/sample - loss: 0.0018 - acc: 0.9987\n",
      "Epoch 77/100\n",
      "800/800 [==============================] - 5s 6ms/sample - loss: 0.0019 - acc: 0.9975\n",
      "Epoch 78/100\n"
     ]
    },
    {
     "name": "stdout",
     "output_type": "stream",
     "text": [
      "800/800 [==============================] - 5s 6ms/sample - loss: 0.0018 - acc: 0.9987\n",
      "Epoch 79/100\n",
      "800/800 [==============================] - 5s 6ms/sample - loss: 0.0018 - acc: 0.9987\n",
      "Epoch 80/100\n",
      "800/800 [==============================] - 5s 6ms/sample - loss: 0.0018 - acc: 0.9987\n",
      "Epoch 81/100\n",
      "800/800 [==============================] - 5s 6ms/sample - loss: 0.0018 - acc: 0.9987\n",
      "Epoch 82/100\n",
      "800/800 [==============================] - 5s 6ms/sample - loss: 0.0018 - acc: 0.9975\n",
      "Epoch 83/100\n",
      "800/800 [==============================] - 5s 6ms/sample - loss: 0.0019 - acc: 0.9975\n",
      "Epoch 84/100\n",
      "800/800 [==============================] - 5s 6ms/sample - loss: 0.0018 - acc: 0.9987\n",
      "Epoch 85/100\n",
      "800/800 [==============================] - 5s 6ms/sample - loss: 0.0017 - acc: 0.9987\n",
      "Epoch 86/100\n",
      "800/800 [==============================] - 5s 6ms/sample - loss: 0.0018 - acc: 0.9975\n",
      "Epoch 87/100\n",
      "800/800 [==============================] - 5s 6ms/sample - loss: 0.0018 - acc: 0.9987\n",
      "Epoch 88/100\n",
      "800/800 [==============================] - 5s 6ms/sample - loss: 0.0018 - acc: 0.9975\n",
      "Epoch 89/100\n",
      "800/800 [==============================] - 5s 6ms/sample - loss: 0.0019 - acc: 0.9975\n",
      "Epoch 90/100\n",
      "800/800 [==============================] - 5s 6ms/sample - loss: 0.0018 - acc: 0.9975\n",
      "Epoch 91/100\n",
      "800/800 [==============================] - 5s 6ms/sample - loss: 0.0018 - acc: 0.9987\n",
      "Epoch 92/100\n",
      "800/800 [==============================] - 5s 6ms/sample - loss: 0.0018 - acc: 0.9987\n",
      "Epoch 93/100\n",
      "800/800 [==============================] - 5s 6ms/sample - loss: 0.0017 - acc: 0.9987\n",
      "Epoch 94/100\n",
      "800/800 [==============================] - 5s 6ms/sample - loss: 0.0018 - acc: 0.9975\n",
      "Epoch 95/100\n",
      "800/800 [==============================] - 5s 6ms/sample - loss: 0.0017 - acc: 0.9987\n",
      "Epoch 96/100\n",
      "800/800 [==============================] - 5s 6ms/sample - loss: 0.0018 - acc: 0.9975\n",
      "Epoch 97/100\n",
      "800/800 [==============================] - 5s 6ms/sample - loss: 0.0017 - acc: 0.9987\n",
      "Epoch 98/100\n",
      "800/800 [==============================] - 5s 6ms/sample - loss: 0.0018 - acc: 0.9975\n",
      "Epoch 99/100\n",
      "800/800 [==============================] - 5s 6ms/sample - loss: 0.0018 - acc: 0.9975\n",
      "Epoch 100/100\n",
      "800/800 [==============================] - 5s 6ms/sample - loss: 0.0018 - acc: 0.9975\n"
     ]
    },
    {
     "data": {
      "text/plain": [
       "<tensorflow.python.keras.callbacks.History at 0x1a33107210>"
      ]
     },
     "execution_count": 10,
     "metadata": {},
     "output_type": "execute_result"
    }
   ],
   "source": [
    "classifier= Sequential()\n",
    "classifier.add(Dense(max_f/2, activation = 'relu'))\n",
    "classifier.add(Dense(max_f/4, activation = 'relu'))\n",
    "classifier.add(Dense(1, activation = 'sigmoid'))\n",
    "classifier.compile(optimizer = 'adam', loss = 'binary_crossentropy', metrics = ['accuracy'])\n",
    "classifier.fit(X_train, y_train, batch_size = 32, epochs = 100)"
   ]
  },
  {
   "cell_type": "code",
   "execution_count": 11,
   "metadata": {},
   "outputs": [],
   "source": [
    "y_pred = classifier.predict(X_test)\n",
    "y_pred = (y_pred>0.5)"
   ]
  },
  {
   "cell_type": "code",
   "execution_count": 12,
   "metadata": {},
   "outputs": [
    {
     "data": {
      "text/plain": [
       "0.83"
      ]
     },
     "execution_count": 12,
     "metadata": {},
     "output_type": "execute_result"
    }
   ],
   "source": [
    "acc = accuracy_score(y_test,y_pred)\n",
    "acc"
   ]
  },
  {
   "cell_type": "markdown",
   "metadata": {},
   "source": [
    "### Accuracy score is 83% which is indicating that the model is a good fit. Not too high value shows that model is in general not overfitted. "
   ]
  }
 ],
 "metadata": {
  "kernelspec": {
   "display_name": "Python 3",
   "language": "python",
   "name": "python3"
  },
  "language_info": {
   "codemirror_mode": {
    "name": "ipython",
    "version": 3
   },
   "file_extension": ".py",
   "mimetype": "text/x-python",
   "name": "python",
   "nbconvert_exporter": "python",
   "pygments_lexer": "ipython3",
   "version": "3.7.6"
  }
 },
 "nbformat": 4,
 "nbformat_minor": 4
}
